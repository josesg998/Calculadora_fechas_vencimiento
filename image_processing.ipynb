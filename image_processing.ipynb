{
  "cells": [
    {
      "cell_type": "markdown",
      "metadata": {
        "id": "view-in-github",
        "colab_type": "text"
      },
      "source": [
        "<a href=\"https://colab.research.google.com/github/josesg998/Calculadora_fechas_vencimiento/blob/main/image_processing.ipynb\" target=\"_parent\"><img src=\"https://colab.research.google.com/assets/colab-badge.svg\" alt=\"Open In Colab\"/></a>"
      ]
    },
    {
      "cell_type": "code",
      "execution_count": 1,
      "metadata": {
        "id": "CS74-A2PywCZ"
      },
      "outputs": [],
      "source": [
        "import kagglehub\n",
        "import os\n",
        "import polars as pl\n",
        "import matplotlib.pyplot as plt\n",
        "from PIL import Image\n",
        "import shutil\n",
        "import numpy as np\n",
        "from concurrent.futures import ThreadPoolExecutor\n",
        "\n",
        "from torchvision import transforms, datasets\n",
        "\n",
        "from torch.utils.data import DataLoader, Dataset\n",
        "from torch.utils.data.dataset import random_split\n",
        "from torch import no_grad, max, zeros, device, optim, nn, Generator, stack, long\n",
        "import torch\n",
        "import torch.nn.functional as F"
      ]
    },
    {
      "cell_type": "code",
      "execution_count": 2,
      "metadata": {
        "id": "vQ4gSTX4ywCa",
        "outputId": "0201254a-5ec8-47ba-d5f5-8382e23e68f1",
        "colab": {
          "base_uri": "https://localhost:8080/"
        }
      },
      "outputs": [
        {
          "output_type": "stream",
          "name": "stdout",
          "text": [
            "Path to dataset files: /root/.cache/kagglehub/datasets/ahmedxc4/parasite-dataset/versions/1\n"
          ]
        }
      ],
      "source": [
        "# Download latest version\n",
        "path = kagglehub.dataset_download(\"ahmedxc4/parasite-dataset\")\n",
        "\n",
        "print(\"Path to dataset files:\", path)"
      ]
    },
    {
      "cell_type": "code",
      "source": [
        "#movemos las tres carpetas a content\n",
        "ruta_origen = path\n",
        "# ruta main de colab\n",
        "ruta_destino = '/content'\n",
        "\n",
        "try:\n",
        "  shutil.move(os.path.join(ruta_origen, 'parasite-dataset'), os.path.join(ruta_destino, 'parasite-dataset'))\n",
        "except:\n",
        "  print(\"Ya se movió la carpeta a /content\")"
      ],
      "metadata": {
        "id": "Dmk8SyjB7mUe",
        "outputId": "6934e413-c42d-4919-9687-d745619d90b7",
        "colab": {
          "base_uri": "https://localhost:8080/"
        }
      },
      "execution_count": 3,
      "outputs": [
        {
          "output_type": "stream",
          "name": "stdout",
          "text": [
            "Ya se movió la carpeta a /content\n"
          ]
        }
      ]
    },
    {
      "cell_type": "code",
      "execution_count": 4,
      "metadata": {
        "id": "jiTuVxo9ywCb"
      },
      "outputs": [],
      "source": [
        "folders = os.listdir('parasite-dataset')\n",
        "folders.remove('README.md')\n",
        "\n",
        "def process_image(ruta_completa):\n",
        "    try:\n",
        "        imagen = Image.open(ruta_completa)\n",
        "        ancho, alto = imagen.size\n",
        "        return ancho, alto\n",
        "    except OSError:\n",
        "        return None\n",
        "\n",
        "def measure_means_folder():\n",
        "    metricas = {}\n",
        "    for folder in folders:\n",
        "        print(folder)\n",
        "        metricas[folder] = {}\n",
        "\n",
        "        # Inicializar variables para calcular la media del tamaño de las imágenes\n",
        "        total_imagenes = 0\n",
        "        suma_ancho = 0\n",
        "        suma_alto = 0\n",
        "\n",
        "        # Inicializar variable para contar imágenes en distintos rangos de tamaño\n",
        "        rangos_tamano = {\n",
        "            '0-100x0-100': 0,\n",
        "            '101-200x101-200': 0,\n",
        "            '201-300x201-300': 0,\n",
        "            '301-infx301-inf': 0\n",
        "        }\n",
        "\n",
        "        directorio = os.path.join('parasite-dataset', folder)\n",
        "        archivos = [os.path.join(directorio, archivo) for archivo in os.listdir(directorio) if archivo.endswith(('.png', '.jpg', '.jpeg'))]\n",
        "\n",
        "        with ThreadPoolExecutor() as executor:\n",
        "            results = executor.map(process_image, archivos)\n",
        "\n",
        "        for result in results:\n",
        "            if result:\n",
        "                ancho, alto = result\n",
        "                total_imagenes += 1\n",
        "                suma_ancho += ancho\n",
        "                suma_alto += alto\n",
        "\n",
        "                if ancho <= 100 and alto <= 100:\n",
        "                    rangos_tamano['0-100x0-100'] += 1\n",
        "                elif ancho <= 200 and alto <= 200:\n",
        "                    rangos_tamano['101-200x101-200'] += 1\n",
        "                elif ancho <= 300 and alto <= 300:\n",
        "                    rangos_tamano['201-300x201-300'] += 1\n",
        "                else:\n",
        "                    rangos_tamano['301-infx301-inf'] += 1\n",
        "\n",
        "        # Calculate means and store in metricas\n",
        "        if total_imagenes > 0:\n",
        "            metricas[folder]['mean_width'] = suma_ancho / total_imagenes\n",
        "            metricas[folder]['mean_height'] = suma_alto / total_imagenes\n",
        "            metricas[folder]['total_images'] = total_imagenes\n",
        "\n",
        "            for rango, cantidad in rangos_tamano.items():\n",
        "                metricas[folder][rango] = cantidad\n",
        "\n",
        "    return metricas"
      ]
    },
    {
      "cell_type": "code",
      "execution_count": 5,
      "metadata": {
        "id": "bdIymSBzywCc",
        "colab": {
          "base_uri": "https://localhost:8080/"
        },
        "outputId": "9adc813b-c0cf-4912-f387-37e50236d64b"
      },
      "outputs": [
        {
          "output_type": "stream",
          "name": "stdout",
          "text": [
            "RBCs\n",
            "Toxoplasma\n",
            "Plasmodium\n",
            "Trichomonad\n",
            "Leukocyte\n",
            "Babesia\n",
            "Trypanosome\n",
            "Leishmania\n"
          ]
        }
      ],
      "source": [
        "metricas = measure_means_folder()"
      ]
    },
    {
      "cell_type": "code",
      "execution_count": 6,
      "metadata": {
        "id": "yq04y1e7ywCc",
        "colab": {
          "base_uri": "https://localhost:8080/",
          "height": 349
        },
        "outputId": "d3e2094c-fc77-45b0-f8f5-8273cef92ddc"
      },
      "outputs": [
        {
          "output_type": "execute_result",
          "data": {
            "text/plain": [
              "shape: (8, 8)\n",
              "┌────────────┬────────────┬────────────┬───────────┬───────────┬───────────┬───────────┬───────────┐\n",
              "│ folder     ┆ total_imag ┆ mean_width ┆ mean_heig ┆ 0-100x0-1 ┆ 101-200x1 ┆ 201-300x2 ┆ 301-infx3 │\n",
              "│ ---        ┆ es         ┆ ---        ┆ ht        ┆ 00        ┆ 01-200    ┆ 01-300    ┆ 01-inf    │\n",
              "│ str        ┆ ---        ┆ f64        ┆ ---       ┆ ---       ┆ ---       ┆ ---       ┆ ---       │\n",
              "│            ┆ i64        ┆            ┆ f64       ┆ i64       ┆ i64       ┆ i64       ┆ i64       │\n",
              "╞════════════╪════════════╪════════════╪═══════════╪═══════════╪═══════════╪═══════════╪═══════════╡\n",
              "│ Plasmodium ┆ 843        ┆ 180.177936 ┆ 176.51245 ┆ 52        ┆ 480       ┆ 311       ┆ 0         │\n",
              "│            ┆            ┆            ┆ 6         ┆           ┆           ┆           ┆           │\n",
              "│ Babesia    ┆ 1173       ┆ 233.520887 ┆ 226.63682 ┆ 0         ┆ 111       ┆ 987       ┆ 75        │\n",
              "│            ┆            ┆            ┆ 9         ┆           ┆           ┆           ┆           │\n",
              "│ Leukocyte  ┆ 1376       ┆ 80.898256  ┆ 82.207849 ┆ 1194      ┆ 74        ┆ 32        ┆ 76        │\n",
              "│ Trypanosom ┆ 2385       ┆ 204.614675 ┆ 199.61551 ┆ 1117      ┆ 233       ┆ 17        ┆ 1018      │\n",
              "│ e          ┆            ┆            ┆ 4         ┆           ┆           ┆           ┆           │\n",
              "│ Leishmania ┆ 2701       ┆ 366.273973 ┆ 351.64494 ┆ 0         ┆ 29        ┆ 241       ┆ 2431      │\n",
              "│            ┆            ┆            ┆ 6         ┆           ┆           ┆           ┆           │\n",
              "│ Toxoplasma ┆ 6691       ┆ 59.040801  ┆ 59.121955 ┆ 4682      ┆ 1959      ┆ 50        ┆ 0         │\n",
              "│ RBCs       ┆ 8995       ┆ 190.651695 ┆ 187.4408  ┆ 610       ┆ 3473      ┆ 4884      ┆ 28        │\n",
              "│ Trichomona ┆ 10134      ┆ 374.167061 ┆ 360.03216 ┆ 0         ┆ 11        ┆ 744       ┆ 9379      │\n",
              "│ d          ┆            ┆            ┆ 9         ┆           ┆           ┆           ┆           │\n",
              "└────────────┴────────────┴────────────┴───────────┴───────────┴───────────┴───────────┴───────────┘"
            ],
            "text/html": [
              "<div><style>\n",
              ".dataframe > thead > tr,\n",
              ".dataframe > tbody > tr {\n",
              "  text-align: right;\n",
              "  white-space: pre-wrap;\n",
              "}\n",
              "</style>\n",
              "<small>shape: (8, 8)</small><table border=\"1\" class=\"dataframe\"><thead><tr><th>folder</th><th>total_images</th><th>mean_width</th><th>mean_height</th><th>0-100x0-100</th><th>101-200x101-200</th><th>201-300x201-300</th><th>301-infx301-inf</th></tr><tr><td>str</td><td>i64</td><td>f64</td><td>f64</td><td>i64</td><td>i64</td><td>i64</td><td>i64</td></tr></thead><tbody><tr><td>&quot;Plasmodium&quot;</td><td>843</td><td>180.177936</td><td>176.512456</td><td>52</td><td>480</td><td>311</td><td>0</td></tr><tr><td>&quot;Babesia&quot;</td><td>1173</td><td>233.520887</td><td>226.636829</td><td>0</td><td>111</td><td>987</td><td>75</td></tr><tr><td>&quot;Leukocyte&quot;</td><td>1376</td><td>80.898256</td><td>82.207849</td><td>1194</td><td>74</td><td>32</td><td>76</td></tr><tr><td>&quot;Trypanosome&quot;</td><td>2385</td><td>204.614675</td><td>199.615514</td><td>1117</td><td>233</td><td>17</td><td>1018</td></tr><tr><td>&quot;Leishmania&quot;</td><td>2701</td><td>366.273973</td><td>351.644946</td><td>0</td><td>29</td><td>241</td><td>2431</td></tr><tr><td>&quot;Toxoplasma&quot;</td><td>6691</td><td>59.040801</td><td>59.121955</td><td>4682</td><td>1959</td><td>50</td><td>0</td></tr><tr><td>&quot;RBCs&quot;</td><td>8995</td><td>190.651695</td><td>187.4408</td><td>610</td><td>3473</td><td>4884</td><td>28</td></tr><tr><td>&quot;Trichomonad&quot;</td><td>10134</td><td>374.167061</td><td>360.032169</td><td>0</td><td>11</td><td>744</td><td>9379</td></tr></tbody></table></div>"
            ]
          },
          "metadata": {},
          "execution_count": 6
        }
      ],
      "source": [
        "metricas_df = pl.DataFrame()\n",
        "for key in metricas.keys():\n",
        "    row_df = pl.DataFrame(metricas[key])\n",
        "    row_df = row_df.with_columns(folder=pl.lit(key))\n",
        "    # put folder column in the first position\n",
        "    row_df = row_df.select(['folder','total_images' ,'mean_width', 'mean_height', '0-100x0-100', '101-200x101-200', '201-300x201-300', '301-infx301-inf'])\n",
        "    #split size_ranges into separate columns\n",
        "    metricas_df = metricas_df.vstack(row_df)\n",
        "\n",
        "metricas_df = metricas_df.sort('total_images', descending=False)\n",
        "metricas_df"
      ]
    },
    {
      "cell_type": "code",
      "execution_count": 7,
      "metadata": {
        "id": "iffhxgBqywCc"
      },
      "outputs": [],
      "source": [
        "# plot the counts as horizontal barchart with plt\n",
        "#plt.figure(figsize=(10, 5))\n",
        "#plt.barh(metricas_df['folder'], metricas_df['total_images'])\n",
        "#plt.title('Conteo de imágenes por carpeta')\n",
        "#plt.xlabel('conteo')\n",
        "#plt.ylabel('especie')\n",
        "#plt.show()"
      ]
    },
    {
      "cell_type": "code",
      "source": [
        "def train_test_val(folder='parasite-dataset'):\n",
        "  # Define the transformations for the dataset\n",
        "  transform_first = transforms.Compose([\n",
        "        transforms.Resize((32, 32))\n",
        "        ,transforms.ToTensor()\n",
        "    ])\n",
        "\n",
        "     # Create the dataset object\n",
        "  dataset = datasets.ImageFolder(root=folder,transform=transform_first)\n",
        "\n",
        "  # Define the split ratio (e.g., 80% train, 20% test)\n",
        "  train_ratio = 0.8\n",
        "  test_ratio = 1 - train_ratio\n",
        "\n",
        "  # Calculate the number of samples for each split\n",
        "  train_size = int(len(dataset) * train_ratio)\n",
        "  test_size = len(dataset) - train_size\n",
        "  val_size = int((train_size - test_size)*.2)\n",
        "  train_size = train_size-val_size\n",
        "\n",
        "  # Split the dataset into train and test sets\n",
        "  train_dataset, test_dataset, val_dataset = random_split(dataset, [train_size, test_size,val_size], generator=Generator().manual_seed(42))\n",
        "\n",
        "  print(f\"Train dataset size: {len(train_dataset):_}\")\n",
        "  print(f\"Test dataset size: {len(test_dataset):_}\")\n",
        "  print(f\"Validation dataset size: {len(val_dataset):_}\")\n",
        "\n",
        "  return train_dataset, test_dataset, val_dataset"
      ],
      "metadata": {
        "id": "RBtT8Ua8x7nD"
      },
      "execution_count": 8,
      "outputs": []
    },
    {
      "cell_type": "code",
      "source": [
        "train_dataset, test_dataset, val_dataset = train_test_val()\n",
        "\n",
        "# Calcular media y desviación estándar de los tres canales (train dataset)\n",
        "n_classes = 2\n",
        "\n",
        "imgs = stack([img_t for img_t, label in train_dataset if (label<n_classes)], dim=3)\n",
        "mean = imgs.view(3, -1).mean(dim=1)\n",
        "std = imgs.view(3, -1).std(dim=1)\n",
        "\n",
        "\n",
        "print(f'Media: {mean}')\n",
        "print(f'Desviación estándar: {std}')"
      ],
      "metadata": {
        "colab": {
          "base_uri": "https://localhost:8080/"
        },
        "id": "0mpI2F2cUoDO",
        "outputId": "0a75f2c3-2a88-4019-e736-046461e74d93"
      },
      "execution_count": 9,
      "outputs": [
        {
          "output_type": "stream",
          "name": "stdout",
          "text": [
            "Train dataset size: 23_323\n",
            "Test dataset size: 6_860\n",
            "Validation dataset size: 4_115\n",
            "Media: tensor([0.5861, 0.5253, 0.6174])\n",
            "Desviación estándar: tensor([0.1059, 0.1092, 0.0927])\n"
          ]
        }
      ]
    },
    {
      "cell_type": "code",
      "source": [
        "class TrainDataset(Dataset):\n",
        "\n",
        "  def __init__(self, partition, mean, std,n_classes):\n",
        "    '''\n",
        "    Constructor de la clase. Podemos pasarle todos los parámetros que querramos,\n",
        "    en este caso usamos:\n",
        "    - partition: si es 'training' o 'validation'\n",
        "    - mean: la media que vamos a usar para normalizar los datos\n",
        "    - std: el desvío estándar\n",
        "    '''\n",
        "\n",
        "    # usamos siempre el constructor de la clase madre primero, por las dudas que\n",
        "    # inicialice cosas que nosotros no sepamos\n",
        "    super(TrainDataset, self).__init__()\n",
        "\n",
        "    # hacemos un chequeo de que no entre cualquier cosa en vez de partition\n",
        "    assert partition in ['training', 'validation','test'], 'partition has to be training or validation, not {}'.format(partition)\n",
        "\n",
        "    # armamos las transformaciones que tenemos que aplicarle a los datos,\n",
        "    # incluyendo la normalización\n",
        "\n",
        "    if partition =='training':\n",
        "\n",
        "      # Define the transformations for the dataset\n",
        "      transform_train = transforms.Compose([\n",
        "          transforms.Resize((32, 32)),\n",
        "          # Definir las transformaciones de aumento\n",
        "          #transforms.RandomRotation(40),\n",
        "          #transforms.RandomAffine(degrees=0, shear=0.2),\n",
        "          #transforms.RandomResizedCrop(size=(224, 224), scale=(0.8, 1.2)),\n",
        "          #transforms.RandomHorizontalFlip(),\n",
        "          #transforms.ColorJitter(brightness=(0.5, 1.5)),\n",
        "          transforms.ToTensor()\n",
        "          ,transforms.Normalize(mean=mean, std=std)\n",
        "      ])\n",
        "\n",
        "      dataset_f = train_dataset\n",
        "\n",
        "      dataset_f.transform = transform_train\n",
        "\n",
        "    elif partition=='validation':\n",
        "      # Define the transformations for the dataset\n",
        "      transform_val = transforms.Compose([\n",
        "          transforms.Resize((32, 32)),\n",
        "          transforms.ToTensor()\n",
        "          ,transforms.Normalize(mean=mean, std=std)\n",
        "      ])\n",
        "\n",
        "      #dataset_f = val_dataset\n",
        "      dataset_f = val_dataset\n",
        "      dataset_f.transform = transform_val\n",
        "\n",
        "    else:\n",
        "      # Define the transformations for the dataset\n",
        "      transform_test = transforms.Compose([\n",
        "          transforms.Resize((32, 32)),\n",
        "          transforms.ToTensor()\n",
        "          ,transforms.Normalize(mean=mean, std=std)\n",
        "      ])\n",
        "\n",
        "      #dataset_f = val_dataset\n",
        "      dataset_f = test_dataset\n",
        "      dataset_f.transform = transform_test\n",
        "\n",
        "\n",
        "    labels = [n for n in range(n_classes)]\n",
        "\n",
        "    # hacemos una lista de nombres para las clases\n",
        "    self.class_names = dataset_f.dataset.classes[:n_classes]\n",
        "\n",
        "    self.data = [(img,label) for img,label in dataset_f if label in labels]\n",
        "\n",
        "  def __len__(self):\n",
        "    '''\n",
        "    Método que te devuelve la cantidad de elementos del dataset\n",
        "    '''\n",
        "    # simplemente devolvemos la longitud de la lista\n",
        "    return len(self.data)\n",
        "\n",
        "\n",
        "  def __getitem__(self, index):\n",
        "    '''\n",
        "    Método que te devuelve el elemento index del dataset\n",
        "    '''\n",
        "    # obtenemos la imagen y su etiqueta asociada\n",
        "    img, label = self.data[index]\n",
        "    # convertimos la etiqueta en un tensor de tipo long\n",
        "    tensor_label = torch.zeros(1)\n",
        "    tensor_label[0] = label\n",
        "    label = tensor_label.long()\n",
        "    # retornamos el par\n",
        "    return (img, label)"
      ],
      "metadata": {
        "id": "K6Mh-U37SUrt"
      },
      "execution_count": 10,
      "outputs": []
    },
    {
      "cell_type": "code",
      "source": [
        "from torch import nn\n",
        "class ParasiteFullyConnectedNN(nn.Module):\n",
        "  '''\n",
        "  Clase que implementa una arquitectura fully connected de 2 capas para\n",
        "  resolver el problema de clasificar aviones y pájaros\n",
        "  '''\n",
        "\n",
        "  def __init__(self):\n",
        "    '''\n",
        "    Constructor: crea la arquitectura\n",
        "    '''\n",
        "\n",
        "    # siempre llamamos al constructor de la clase madre primero\n",
        "    super(ParasiteFullyConnectedNN, self).__init__()\n",
        "    # número de salidas del modelo (probabilidades de ser avión o pájaro)\n",
        "    n_out = 2\n",
        "\n",
        "    self.model = nn.Sequential(\n",
        "        # una capa fully connected\n",
        "        nn.Linear(3072, # cantidad de features en la entrada: 32 x 32 x 3 colores\n",
        "                  512),  # tamaño de la hidden layer\n",
        "        # una función de activación (la tangente hiperbólica)\n",
        "        nn.Tanh(),\n",
        "        # otra capa fully connected\n",
        "        nn.Linear(512, # tamaño de la hidden layer\n",
        "                  n_out), # cantidad de clases en la salida,\n",
        "        # la función de activación para las salidas, que las hace probabilidades\n",
        "        nn.Softmax(dim=1)\n",
        "    )\n",
        "\n",
        "      # agregamos la función de activación como un atributo\n",
        "    self.final_activation = nn.Softmax(dim=1)\n",
        "\n",
        "  def forward(self, inputs):\n",
        "    '''\n",
        "    Método que implementa el forward pass\n",
        "    '''\n",
        "    return self.model(inputs)\n",
        "\n",
        "  def predict(self, inputs):\n",
        "    '''\n",
        "    Método que usaremos de aquí en más cuando queremos predecir resultados\n",
        "    '''\n",
        "    # devolvemos el resultado de llamar al modelo y aplicarle la función de activación\n",
        "    return self.final_activation(self.model(inputs))"
      ],
      "metadata": {
        "id": "LoovhtD-TsX-"
      },
      "execution_count": 11,
      "outputs": []
    },
    {
      "cell_type": "code",
      "source": [
        "import torch.nn.functional as F\n",
        "\n",
        "class ParasiteCNN(nn.Module):\n",
        "  '''\n",
        "  Una primera red neuronal convolucional\n",
        "  '''\n",
        "\n",
        "  def __init__(self):\n",
        "    '''\n",
        "    Constructor de la clase\n",
        "    '''\n",
        "    super().__init__()\n",
        "\n",
        "    # vamos a plantear un modelo con 2 capas convolucionales, una que produce\n",
        "    # 8 activations maps\n",
        "    self.conv1 = nn.Conv2d(3, 8, kernel_size=3, padding=1)\n",
        "    # y otro que produce 16 activations maps a partir de los 8 anteriores\n",
        "    self.conv2 = nn.Conv2d(16, 16, kernel_size=3, padding=1)\n",
        "\n",
        "    # las imágenes de 32 x 32 x 3 bajarán de tamaño 2 veces usando maxpooling de 2x2,\n",
        "    # llegando a un tamaño de 8x8 x 16 activation maps.\n",
        "\n",
        "    # con eso alimentamos la capa fully connected, que va a generarnos 32 features\n",
        "    # combinando esas que generamos antes\n",
        "    self.fc1 = nn.Linear(8 * 8 * 16, 32)\n",
        "    # y de esas 32 features generaremos 2 scores\n",
        "    self.fc2 = nn.Linear(32, 2)\n",
        "    # que pasaremos por la capa softmax para obtener probabilidades\n",
        "    self.final_activation = nn.Softmax(dim=1)\n",
        "\n",
        "\n",
        "  def forward(self, x):\n",
        "    '''\n",
        "    Método que implementa el forward pass\n",
        "    '''\n",
        "\n",
        "    # aplicamos la convolución, sobre ella la función de activación, y después\n",
        "    # el maxpooling con un kernel_size de 2x2\n",
        "    out = F.max_pool2d(torch.tanh(self.conv1(x)), 2)\n",
        "    # a esa salida la pasamos por la segunda convolución, otra función de activación,\n",
        "    # y nuevamente el maxpooling con kernel de 2x2\n",
        "    out = F.max_pool2d(torch.tanh(self.conv2(out)), 2)\n",
        "    # ahora convertimos el activamos map en un vector\n",
        "    out = out.view(-1, 8 * 8 * 16)\n",
        "    # que pasamos por la primera capa fully connected y por la función de activación\n",
        "    out = torch.tanh(self.fc1(out))\n",
        "    # y después por la última capa\n",
        "    out = self.fc2(out)\n",
        "    return out\n",
        "\n",
        "\n",
        "  def predict(self, inputs):\n",
        "    '''\n",
        "    Método que usaremos de aquí en más cuando queremos predecir resultados\n",
        "    '''\n",
        "    # devolvemos el resultado de llamar al modelo y aplicarle la función de activación\n",
        "    return self.final_activation(self.__call__(inputs))"
      ],
      "metadata": {
        "id": "LimGik_weKYB"
      },
      "execution_count": 12,
      "outputs": []
    },
    {
      "cell_type": "code",
      "source": [
        "# creamos una instancia de nuestro training set\n",
        "training_set = TrainDataset('training', mean, std,n_classes=n_classes)\n",
        "# creamos un dataloader para los datos de training\n",
        "training_loader = DataLoader(training_set, batch_size=64, shuffle=True)\n",
        "\n",
        "# creamos una instancia de nuestro validation set\n",
        "validation_set = TrainDataset('validation', mean, std,n_classes=n_classes)\n",
        "# creamos un dataloader para los datos de validation\n",
        "validation_loader = DataLoader(validation_set, batch_size=64, shuffle=False)"
      ],
      "metadata": {
        "id": "ImyS6NicUGJ6"
      },
      "execution_count": 13,
      "outputs": []
    },
    {
      "cell_type": "code",
      "source": [
        "# inicializamos la función de pérdida\n",
        "loss_fn = nn.CrossEntropyLoss()\n",
        "# creamos una nueva instancia de la red\n",
        "fc_model = ParasiteFullyConnectedNN()"
      ],
      "metadata": {
        "id": "VMo84vn8dr6S"
      },
      "execution_count": 14,
      "outputs": []
    },
    {
      "cell_type": "code",
      "source": [
        "i = 0\n",
        "# recorremos por 2 iteraciones nuestro dataset de entrenamiento\n",
        "for imgs, labels in training_loader:\n",
        "  # imprimiendo el tamaño del batch de imágenes y el de etiquetas\n",
        "  print('Image batch size: {}'.format(imgs.shape))\n",
        "  print('Labels batch size: {}'.format(labels.shape))\n",
        "  print('')\n",
        "  i=i+1\n",
        "  if i==2:\n",
        "    break"
      ],
      "metadata": {
        "colab": {
          "base_uri": "https://localhost:8080/"
        },
        "id": "jHxjvN-21TfJ",
        "outputId": "bb527aaa-5c53-4c03-a2cb-67707c28adf0"
      },
      "execution_count": 15,
      "outputs": [
        {
          "output_type": "stream",
          "name": "stdout",
          "text": [
            "Image batch size: torch.Size([64, 3, 32, 32])\n",
            "Labels batch size: torch.Size([64, 1])\n",
            "\n",
            "Image batch size: torch.Size([64, 3, 32, 32])\n",
            "Labels batch size: torch.Size([64, 1])\n",
            "\n"
          ]
        }
      ]
    },
    {
      "cell_type": "code",
      "source": [
        "\n",
        "def training_loop(n_epochs, optimizer, model, loss_fn, train_loader, validation_loader, device, is_fully_connected=False):\n",
        "\n",
        "  # inicializamos una lista de valores de loss por época\n",
        "  training_loss_per_epoch = []\n",
        "  validation_loss_per_epoch = []\n",
        "  # e igual del accuracy\n",
        "  training_accuracy_per_epoch = []\n",
        "  validation_accuracy_per_epoch = []\n",
        "\n",
        "  # iteramos por cada época\n",
        "  for epoch in range(1, n_epochs + 1):\n",
        "\n",
        "    # -----------------------------\n",
        "    #          TRAINING\n",
        "    # -----------------------------\n",
        "\n",
        "    # inicializamos el valor de la loss en 0\n",
        "    loss_train = 0.0\n",
        "    # y la cantidad de valores totales y correctos (para calcular accuracy)\n",
        "    total = 0\n",
        "    correct = 0\n",
        "    model.train()\n",
        "    # for cada batch en nuestros datos de entrenamiento\n",
        "    for imgs, labels in train_loader:\n",
        "\n",
        "      # si la red es fully connected, acomodamos las imágenes al formato de entrada de la red\n",
        "      if is_fully_connected:\n",
        "        batch_size = imgs.shape[0]\n",
        "        imgs = imgs.view(batch_size, -1)\n",
        "\n",
        "      # pasamos imágenes y etiquetas a GPU\n",
        "      imgs = imgs.to(device=device)\n",
        "      labels = torch.squeeze(labels)\n",
        "      labels = labels.to(device=device)\n",
        "      # hacemos un forward pass\n",
        "      outputs = model(imgs)\n",
        "\n",
        "      # evaluamos la loss\n",
        "      loss = loss_fn(outputs, labels)\n",
        "      # limpiamos los gradientes anteriores\n",
        "      optimizer.zero_grad()\n",
        "      # calculamos los gradientes con backpropagation\n",
        "      loss.backward()\n",
        "      # actualizamos el optimizador\n",
        "      optimizer.step()\n",
        "      # y vamos sumando los valores de la loss\n",
        "      loss_train += loss.item()\n",
        "\n",
        "      # también podemos calcular el accuracy sobre datos de entrenamiento:\n",
        "      # primero tenemos que estimar las etiquetas\n",
        "      _, predicted = torch.max(model.final_activation(outputs), dim=1)\n",
        "      # y después calculamos total de muestras y correctas\n",
        "      total += labels.shape[0]\n",
        "      correct += int((predicted == labels).sum())\n",
        "\n",
        "    # calculamos el promedio de la loss por época\n",
        "    training_loss_per_epoch.append(loss_train / len(train_loader))\n",
        "    # y el valor de accuracy\n",
        "    training_accuracy_per_epoch.append(correct / total)\n",
        "\n",
        "    # -----------------------------\n",
        "    #         VALIDATION\n",
        "    # -----------------------------\n",
        "\n",
        "    # inicializamos el valor de la loss en 0\n",
        "    loss_val = 0.0\n",
        "    # y la cantidad de valores totales y correctos (para calcular accuracy)\n",
        "    total = 0\n",
        "    correct = 0\n",
        "    model.eval()\n",
        "\n",
        "    # como iteramos sobre los datos de validación, no calculamos gradientes\n",
        "    with torch.no_grad():\n",
        "\n",
        "      # for cada batch en nuestros datos de validación\n",
        "      for imgs, labels in validation_loader:\n",
        "\n",
        "        # si la red es fully connected, acomodamos las imágenes al formato de entrada de la red\n",
        "        if is_fully_connected:\n",
        "          batch_size = imgs.shape[0]\n",
        "          imgs = imgs.view(batch_size, -1)\n",
        "\n",
        "        # pasamos imágenes y etiquetas a GPU\n",
        "        imgs = imgs.to(device=device)\n",
        "        labels = torch.squeeze(labels)\n",
        "        labels = labels.to(device=device)\n",
        "        # hacemos un forward pass\n",
        "        outputs = model(imgs)\n",
        "\n",
        "        # evaluamos la loss\n",
        "        loss = loss_fn(outputs, labels)\n",
        "        # y vamos sumando sus valores\n",
        "        loss_val += loss.item()\n",
        "\n",
        "        # estimamos las etiquetas\n",
        "        _, predicted = torch.max(model.final_activation(outputs), dim=1)\n",
        "        # y calculamos total de muestras y correctas\n",
        "        total += labels.shape[0]\n",
        "        correct += int((predicted == labels).sum())\n",
        "\n",
        "    # calculamos el promedio de la loss por época\n",
        "    validation_loss_per_epoch.append(loss_val / len(validation_loader))\n",
        "    # y el valor de accuracy\n",
        "    validation_accuracy_per_epoch.append(correct / total)\n",
        "\n",
        "    # -----------------------------\n",
        "    #    IMPRIMIMOS RESULTADOS\n",
        "    # -----------------------------\n",
        "\n",
        "    # cada 10 épocas, mostramos cuánto tardó la época y qué valor obtuvimos\n",
        "    if epoch == 1 or epoch % 10 == 0:\n",
        "      print('Epoch {}:'.format(epoch),end='\\r')\n",
        "    #  print(' ---> Loss: Training {:.4f} - Validation {:.4f}'.format(training_loss_per_epoch[-1], validation_loss_per_epoch[-1]))\n",
        "    #  print(' ---> Accuracy: Training {:.4f} - Validation {:.4f}'.format(training_accuracy_per_epoch[-1], validation_accuracy_per_epoch[-1]))\n",
        "\n",
        "  # devolvemos los resultados\n",
        "  return model, training_loss_per_epoch, validation_loss_per_epoch, training_accuracy_per_epoch, validation_accuracy_per_epoch"
      ],
      "metadata": {
        "id": "K0L48vmQXG3S"
      },
      "execution_count": 16,
      "outputs": []
    },
    {
      "cell_type": "code",
      "source": [
        "def plot_training_statistics(training_loss_per_epoch, validation_loss_per_epoch, training_accuracy_per_epoch, validation_accuracy_per_epoch):\n",
        "  '''\n",
        "  Plotea las estadísticas sobre datos de entrenamiento y validación\n",
        "  (loss function y valores de accuracy)\n",
        "  '''\n",
        "\n",
        "  # creamos plots para la loss y el accuracy\n",
        "  fig, axes = plt.subplots(1, 2)\n",
        "  # graficamos la evolución de la loss de entrenamiento y la de validación\n",
        "  axes[0].plot(training_loss_per_epoch, color='blue')\n",
        "  axes[0].plot(validation_loss_per_epoch, color='red')\n",
        "  axes[0].set_xlabel('Epochs')\n",
        "  axes[0].set_ylabel('Cross entropy loss')\n",
        "  axes[0].grid(True)\n",
        "  axes[0].legend(['Training set', 'Validation set'])\n",
        "  axes[0].set_title('Loss function')\n",
        "  # graficamos la evolución del accuracy en los datos de entrenamiento y validación\n",
        "  axes[1].plot(training_accuracy_per_epoch, color='blue')\n",
        "  axes[1].plot(validation_accuracy_per_epoch, color='red')\n",
        "  axes[1].set_xlabel('Epochs')\n",
        "  axes[1].set_ylabel('Accuracy')\n",
        "  axes[1].grid(True)\n",
        "  axes[1].legend(['Training set', 'Validation set'])\n",
        "  axes[1].set_title('Accuracy')\n",
        "  axes[1].set_ylim([0, 1.0])\n",
        "  fig.tight_layout(pad=3.0)"
      ],
      "metadata": {
        "id": "FS8x37TTbv4s"
      },
      "execution_count": 17,
      "outputs": []
    },
    {
      "cell_type": "code",
      "source": [
        "# elijan si quieren usarla o no, para ver la diferencia de performance!\n",
        "use_gpu = True\n",
        "# elegimos si usamos cuda o cpu\n",
        "if use_gpu:\n",
        "  device = torch.device('cuda')\n",
        "else:\n",
        "  device = torch.device('cpu')\n",
        "\n",
        "# creamos una instancia del modelo\n",
        "fc_model = ParasiteFullyConnectedNN()\n",
        "# creamos la loss function\n",
        "loss_fn = nn.CrossEntropyLoss()\n",
        "# movemos todo lo que haga falta al dispositivo que hayamos elegido\n",
        "fc_model = fc_model.to(device)\n",
        "loss_fn = loss_fn.to(device)\n",
        "# inicializamos un valor de learning rate\n",
        "learning_rate = 1e-2\n",
        "# creamos una instancia de un optimizador (por ejemplo, SGD),\n",
        "# pasándole los parámetros de nuestro modelo y la learning rate que queremos usar\n",
        "optimizer = optim.SGD(fc_model.parameters(), lr=learning_rate)\n",
        "# determinamos el número de épocas por el que queremos entrenar\n",
        "n_epochs = 100\n",
        "\n",
        "# entrenamos la red, indicando que es fully connected\n",
        "fc_model, tr_loss, val_loss, tr_acc, val_acc = training_loop(n_epochs, optimizer, fc_model, loss_fn, training_loader, validation_loader, device, is_fully_connected=True)\n",
        "\n",
        "# ploteamos los resultados\n",
        "plot_training_statistics(tr_loss, val_loss, tr_acc, val_acc)"
      ],
      "metadata": {
        "id": "ZRBEcUmidyVK",
        "outputId": "9b87a3f7-1d43-4e7b-bb4e-b3135b17d8a5",
        "colab": {
          "base_uri": "https://localhost:8080/",
          "height": 433
        }
      },
      "execution_count": 18,
      "outputs": [
        {
          "output_type": "stream",
          "name": "stdout",
          "text": []
        },
        {
          "output_type": "display_data",
          "data": {
            "text/plain": [
              "<Figure size 640x480 with 2 Axes>"
            ],
            "image/png": "[encoded data removed]"
          },
          "metadata": {}
        }
      ]
    },
    {
      "cell_type": "code",
      "source": [
        "# creamos una instancia del modelo\n",
        "#cnn_model = ParasiteCNN()\n",
        "# movemos el modelo a la GPU\n",
        "#cnn_model = cnn_model.to(device)\n",
        "# creamos una instancia de un optimizador (por ejemplo, SGD),\n",
        "# pasándole los parámetros de nuestro modelo y la learning rate que queremos usar (que la definimos arriba)\n",
        "#optimizer = optim.SGD(cnn_model.parameters(), lr=learning_rate)\n",
        "\n",
        "# entrenamos la red, indicando que es fully connected y usando los mismos parámetros que antes\n",
        "#cnn_model, tr_loss, val_loss, tr_acc, val_acc = training_loop(n_epochs, optimizer, cnn_model, loss_fn, training_loader, validation_loader, device, is_fully_connected=False)\n",
        "\n",
        "# ploteamos los resultados\n",
        "#plot_training_statistics(tr_loss, val_loss, tr_acc, val_acc)"
      ],
      "metadata": {
        "id": "LCCMVsZyf4ea"
      },
      "execution_count": 19,
      "outputs": []
    },
    {
      "cell_type": "code",
      "source": [
        "# inicializamos el tamaño de batch\n",
        "batch_size = 64\n",
        "\n",
        "# ponemos el modelo en modo evaluación\n",
        "fc_model.eval()\n",
        "\n",
        "# creamos una instancia de nuestro test set\n",
        "cifar_test_set = TrainDataset('test', mean, std,n_classes=2)\n",
        "# creamos un dataloader para los datos de test\n",
        "test_loader = DataLoader(cifar_test_set, batch_size=batch_size, shuffle=False)\n",
        "\n",
        "# inicializamos matrices y arreglos para guardar:\n",
        "# - probabilidades\n",
        "probabilities = np.zeros((len(cifar_test_set), 2))\n",
        "# - predicciones\n",
        "predictions = np.zeros(len(cifar_test_set))\n",
        "# - labels\n",
        "labels = np.zeros(len(cifar_test_set))\n",
        "\n",
        "# sin calcular el gradiente...\n",
        "with no_grad():\n",
        "\n",
        "  # inicializamos un contador de muestras\n",
        "  num_samples = 0\n",
        "  # iteramos por cada batch de test\n",
        "  for i, (imgs, lbl) in enumerate(test_loader):\n",
        "\n",
        "    # acomodamos las imágenes al formato de entrada de la red\n",
        "    num_outputs = imgs.shape[0]\n",
        "    imgs = imgs.view(num_outputs, -1)\n",
        "    # actualizamos la cantidad de muestras que vamos llevando\n",
        "    num_samples = num_samples + num_outputs\n",
        "\n",
        "    # obtenemos las predicciones\n",
        "    probs = fc_model.predict(imgs.cuda())\n",
        "    # pasamos la salida a CPU\n",
        "    probs = probs.cpu()\n",
        "    # y recuperamos la clase más probable\n",
        "    _, predicted = max(probs, dim=1)\n",
        "\n",
        "    # colocamos las probabilidades, predicciones y etiquetas en los arreglos\n",
        "    probabilities[i*batch_size : i*batch_size+num_outputs, :] = probs.numpy()\n",
        "    predictions[i*batch_size : i*batch_size+num_outputs] = predicted.numpy()\n",
        "    labels[i*batch_size : i*batch_size+num_outputs] = lbl.view(-1)"
      ],
      "metadata": {
        "id": "g9DFGTUNb1hB"
      },
      "execution_count": 34,
      "outputs": []
    },
    {
      "cell_type": "code",
      "source": [
        "from sklearn.metrics import confusion_matrix\n",
        "\n",
        "conf_mat = confusion_matrix(labels, predictions)\n",
        "print(\"Confusion matrix:\")\n",
        "print(conf_mat)"
      ],
      "metadata": {
        "id": "vOwv5Av2cLIV",
        "colab": {
          "base_uri": "https://localhost:8080/"
        },
        "outputId": "c49f1d64-303a-4467-cf5c-bb8dd2ceec55"
      },
      "execution_count": 35,
      "outputs": [
        {
          "output_type": "stream",
          "name": "stdout",
          "text": [
            "Confusion matrix:\n",
            "[[231  16]\n",
            " [  5 527]]\n"
          ]
        }
      ]
    },
    {
      "cell_type": "code",
      "source": [
        "# importamos pandas\n",
        "from pandas import crosstab, DataFrame\n",
        "# y seaborn\n",
        "import seaborn as sn\n",
        "\n",
        "# generamos un dataframe de dos columnas con las etiquetas en la columna GT\n",
        "# y las predicciones en la columna Predicted\n",
        "df = DataFrame({'GT': labels, 'Predicted': predictions}, columns=['GT','Predicted'])\n",
        "# obtenemos la matriz de confusión\n",
        "conf_mat = crosstab(df['GT'], df['Predicted'], rownames=['GT'], colnames=['Predicted'], margins = False)\n",
        "# la representamos graficamente con Seaborn\n",
        "ax = plt.axes()\n",
        "sn.heatmap(conf_mat, ax=ax, annot=True, fmt=\"d\")\n",
        "ax.set_title(\"Confusion matrix\")\n",
        "ax.set_xticklabels(training_set.class_names)\n",
        "ax.set_yticklabels(training_set.class_names)\n",
        "plt.show()"
      ],
      "metadata": {
        "id": "9IZdDv6acNJ_",
        "colab": {
          "base_uri": "https://localhost:8080/",
          "height": 472
        },
        "outputId": "a243684c-3832-46a7-f8a8-dfc60b1dda63"
      },
      "execution_count": 38,
      "outputs": [
        {
          "output_type": "display_data",
          "data": {
            "text/plain": [
              "<Figure size 640x480 with 2 Axes>"
            ],
            "image/png": "[encoded data removed]"
          },
          "metadata": {}
        }
      ]
    }
  ],
  "metadata": {
    "kernelspec": {
      "display_name": "Python 3",
      "name": "python3"
    },
    "language_info": {
      "codemirror_mode": {
        "name": "ipython",
        "version": 3
      },
      "file_extension": ".py",
      "mimetype": "text/x-python",
      "name": "python",
      "nbconvert_exporter": "python",
      "pygments_lexer": "ipython3",
      "version": "3.12.0"
    },
    "colab": {
      "provenance": [],
      "gpuType": "T4",
      "include_colab_link": true
    },
    "accelerator": "GPU"
  },
  "nbformat": 4,
  "nbformat_minor": 0
}